{
 "metadata": {
  "name": "Performance polynomial"
 },
 "nbformat": 3,
 "nbformat_minor": 0,
 "worksheets": [
  {
   "cells": [
    {
     "cell_type": "code",
     "collapsed": false,
     "input": [
      "import os\n",
      "os.chdir('../')\n",
      "os.getcwd()"
     ],
     "language": "python",
     "metadata": {},
     "outputs": [
      {
       "output_type": "pyout",
       "prompt_number": 1,
       "text": [
        "'c:\\\\Users\\\\u0098668\\\\Documents\\\\Modelica\\\\datafitter'"
       ]
      }
     ],
     "prompt_number": 1
    },
    {
     "cell_type": "code",
     "collapsed": false,
     "input": [
      "%pylab inline\n",
      "import pandas\n",
      "import numpy as np\n",
      "import multipolyfit\n",
      "from scipy.optimize import curve_fit\n",
      "from datafitter.reader import Reader\n",
      "from datafitter.fitter import Fitter\n",
      "from datafitter.plotter import Plotter"
     ],
     "language": "python",
     "metadata": {},
     "outputs": [
      {
       "output_type": "stream",
       "stream": "stdout",
       "text": [
        "\n",
        "Welcome to pylab, a matplotlib-based Python environment [backend: module://IPython.zmq.pylab.backend_inline].\n",
        "For more information, type 'help(pylab)'.\n"
       ]
      }
     ],
     "prompt_number": 2
    },
    {
     "cell_type": "code",
     "collapsed": false,
     "input": [
      "names = ['modulation', 'massflow', 'Tcondensor', 'efficiency']\n",
      "path = 'data/boiler.xlsx'\n",
      "lowest_degree = 2\n",
      "highest_degree = 6"
     ],
     "language": "python",
     "metadata": {},
     "outputs": [],
     "prompt_number": 3
    },
    {
     "cell_type": "code",
     "collapsed": false,
     "input": [
      "data = Reader(path, names)\n",
      "fitter = Fitter(data)"
     ],
     "language": "python",
     "metadata": {},
     "outputs": [
      {
       "output_type": "stream",
       "stream": "stdout",
       "text": [
        "              20      30      40      50      60      70      80\n",
        "20  100   0.9969  0.9671  0.9293  0.8831  0.8562  0.8398  0.8374\n",
        "    400   0.9987  0.9859  0.9498  0.9003  0.8570  0.8479  0.8384\n",
        "    700   0.9990  0.9900  0.9549  0.9056  0.8575  0.8481  0.8386\n",
        "    1000  0.9990  0.9921  0.9575  0.9083  0.8576  0.8482  0.8387\n",
        "    1300  0.9990  0.9934  0.9592  0.9101  0.8577  0.8483  0.8388\n",
        "40  100   0.9624  0.9333  0.9010  0.8699  0.8626  0.8553  0.8479\n",
        "    400   0.9947  0.9661  0.9306  0.8871  0.8647  0.8573  0.8499\n",
        "    700   0.9985  0.9756  0.9400  0.8946  0.8651  0.8577  0.8503\n",
        "    1000  0.9989  0.9803  0.9451  0.8989  0.8653  0.8579  0.8505\n",
        "    1300  0.9990  0.9833  0.9485  0.9018  0.8655  0.8581  0.8506\n",
        "60  100   0.9349  0.9096  0.8831  0.8701  0.8634  0.8498  0.8488\n",
        "    400   0.9759  0.9471  0.9136  0.8759  0.8666  0.8599  0.8532\n",
        "    700   0.9879  0.9595  0.9247  0.8838  0.8672  0.8605  0.8538\n",
        "    1000  0.9941  0.9664  0.9313  0.8887  0.8675  0.8608  0.8541\n",
        "    1300  0.9980  0.9709  0.9357  0.8921  0.8677  0.8610  0.8543\n",
        "80  100   0.9015  0.8825  0.8736  0.8676  0.8000  0.8000  0.8000\n",
        "    400   0.9441  0.9184  0.8909  0.8731  0.8670  0.8609  0.8547\n",
        "    700   0.9599  0.9324  0.9020  0.8741  0.8681  0.8619  0.8558\n",
        "    1000  0.9691  0.9410  0.9092  0.8746  0.8686  0.8625  0.8563\n",
        "    1300  0.9753  0.9471  0.9143  0.8774  0.8689  0.8628  0.8566\n",
        "100 100   0.9015  0.8824  0.8736  0.8676  0.8000  0.8000  0.8000\n",
        "    400   0.9441  0.9184  0.8909  0.8731  0.8670  0.8609  0.8547\n",
        "    700   0.9599  0.9324  0.9020  0.8741  0.8681  0.8619  0.8558\n",
        "    1000  0.9691  0.9410  0.9092  0.8746  0.8686  0.8625  0.8563\n",
        "    1300  0.9753  0.9471  0.9143  0.8774  0.8698  0.8628  0.8556\n"
       ]
      }
     ],
     "prompt_number": 4
    },
    {
     "cell_type": "code",
     "collapsed": false,
     "input": [
      "fitter.best_fit(lowest_degree, highest_degree)"
     ],
     "language": "python",
     "metadata": {},
     "outputs": [
      {
       "output_type": "stream",
       "stream": "stdout",
       "text": [
        "The global precision error is: 1.0435563998%.\n",
        "The global precision error is: 0.812281754865%."
       ]
      },
      {
       "output_type": "stream",
       "stream": "stdout",
       "text": [
        "\n",
        "The global precision error is: 0.534276682449%."
       ]
      },
      {
       "output_type": "stream",
       "stream": "stdout",
       "text": [
        "\n",
        "The global precision error is: 49.1650558872%."
       ]
      },
      {
       "output_type": "stream",
       "stream": "stdout",
       "text": [
        "\n",
        "The global precision error is: 94.1965478566%."
       ]
      },
      {
       "output_type": "stream",
       "stream": "stdout",
       "text": [
        "\n",
        "The global precision error is: 0.534276682449%."
       ]
      },
      {
       "output_type": "stream",
       "stream": "stdout",
       "text": [
        "\n"
       ]
      },
      {
       "output_type": "pyout",
       "prompt_number": 10,
       "text": [
        "[{'degree': 4, 'error': 0.0053427668244903585},\n",
        " {'degree': 3, 'error': 0.0081228175486541439},\n",
        " {'degree': 2, 'error': 0.010435563998017533},\n",
        " {'degree': 5, 'error': 0.49165055887232717},\n",
        " {'degree': 6, 'error': 0.94196547856641688}]"
       ]
      }
     ],
     "prompt_number": 10
    },
    {
     "cell_type": "code",
     "collapsed": false,
     "input": [
      "print fitter.modelica_output()"
     ],
     "language": "python",
     "metadata": {},
     "outputs": [
      {
       "output_type": "stream",
       "stream": "stdout",
       "text": [
        "BETA:-------------------------------------\n",
        "{0.865849398362,-0.00280717097485,9.1085687784e-05,0.0185602974617,9.62092490727e-05,2.97454493633e-06,-0.000134095239431,-2.62301938904e-07,1.85944906507e-06,-0.000659391132659,-1.5408642508e-06,7.13648954656e-09,5.8088289358e-07,-1.80275291291e-09,-6.69355452367e-08,3.33070648239e-06,2.06576747018e-10,2.26028411393e-09,-5.85367846862e-08,7.65879797741e-06,8.11607672769e-09,-1.25395971601e-10,-2.36757445216e-09,-1.58139235214e-12,3.26363743214e-10,-5.60289552547e-09,1.14023027131e-12,-2.08587461539e-11,5.86267949511e-10,-2.00499991964e-08,-8.41726861822e-14,4.05226199818e-13,-1.74812612302e-11,3.58893727752e-10,-2.92712080425e-08}\n",
        "POWERS:-----------------------------------\n",
        "{{4,0,0,0},{3,1,0,0},{3,0,1,0},{3,0,0,1},{2,2,0,0},{2,1,1,0},{2,1,0,1},{2,0,2,0},{2,0,1,1},{2,0,0,2},{1,3,0,0},{1,2,1,0},{1,2,0,1},{1,1,2,0},{1,1,1,1},{1,1,0,2},{1,0,3,0},{1,0,2,1},{1,0,1,2},{1,0,0,3},{0,4,0,0},{0,3,1,0},{0,3,0,1},{0,2,2,0},{0,2,1,1},{0,2,0,2},{0,1,3,0},{0,1,2,1},{0,1,1,2},{0,1,0,3},{0,0,4,0},{0,0,3,1},{0,0,2,2},{0,0,1,3},{0,0,0,4}}\n"
       ]
      }
     ],
     "prompt_number": 11
    },
    {
     "cell_type": "code",
     "collapsed": false,
     "input": [
      "print fitter.modelica_output()"
     ],
     "language": "python",
     "metadata": {},
     "outputs": [
      {
       "output_type": "stream",
       "stream": "stdout",
       "text": [
        "BETA:-------------------------------------\n",
        "{1.10801352268,-0.00139459489796,7.84565873015e-05,-0.00560282142857,-4.15816326533e-07,3.93071428571e-07,1.587e-05,-3.8671201814e-08,-4.29261904762e-07,2.67019047619e-05}\n",
        "POWERS:-----------------------------------\n",
        "{{2,0,0,0},{1,1,0,0},{1,0,1,0},{1,0,0,1},{0,2,0,0},{0,1,1,0},{0,1,0,1},{0,0,2,0},{0,0,1,1},{0,0,0,2}}\n"
       ]
      }
     ],
     "prompt_number": 9
    },
    {
     "cell_type": "code",
     "collapsed": false,
     "input": [],
     "language": "python",
     "metadata": {},
     "outputs": []
    }
   ],
   "metadata": {}
  }
 ]
}