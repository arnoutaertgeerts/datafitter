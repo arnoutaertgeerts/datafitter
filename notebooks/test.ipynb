{
 "metadata": {
  "name": "test"
 },
 "nbformat": 3,
 "nbformat_minor": 0,
 "worksheets": [
  {
   "cells": [
    {
     "cell_type": "code",
     "collapsed": false,
     "input": [
      "import os\n",
      "os.chdir('../')\n",
      "os.getcwd()"
     ],
     "language": "python",
     "metadata": {},
     "outputs": [
      {
       "output_type": "pyout",
       "prompt_number": 1,
       "text": [
        "'c:\\\\Users\\\\u0098668\\\\Documents\\\\Modelica\\\\datafitter'"
       ]
      }
     ],
     "prompt_number": 1
    },
    {
     "cell_type": "code",
     "collapsed": false,
     "input": [
      "%pylab inline\n",
      "import pandas\n",
      "import numpy as np\n",
      "import multipolyfit\n",
      "from scipy.optimize import curve_fit\n",
      "from datafitter.reader import Reader\n",
      "from datafitter.fitter import Fitter\n",
      "from datafitter.plotter import Plotter"
     ],
     "language": "python",
     "metadata": {},
     "outputs": [
      {
       "output_type": "stream",
       "stream": "stdout",
       "text": [
        "\n",
        "Welcome to pylab, a matplotlib-based Python environment [backend: module://IPython.zmq.pylab.backend_inline].\n",
        "For more information, type 'help(pylab)'.\n"
       ]
      }
     ],
     "prompt_number": 2
    },
    {
     "cell_type": "code",
     "collapsed": false,
     "input": [
      "names = ['modulation', 'massflow', 'Tcondensor', 'efficiency']\n",
      "data = Reader('data/sample.xlsx', names)"
     ],
     "language": "python",
     "metadata": {},
     "outputs": [
      {
       "output_type": "stream",
       "stream": "stdout",
       "text": [
        "              20      30      40      50      60      70      80\n",
        "20  100   0.9969  0.9671  0.9293  0.8831  0.8562  0.8398  0.8374\n",
        "    400   0.9987  0.9859  0.9498  0.9003  0.8570  0.8479  0.8384\n",
        "    700   0.9990  0.9900  0.9549  0.9056  0.8575  0.8481  0.8386\n",
        "    1000  0.9990  0.9921  0.9575  0.9083  0.8576  0.8482  0.8387\n",
        "    1300  0.9990  0.9934  0.9592  0.9101  0.8577  0.8483  0.8388\n",
        "40  100   0.9624  0.9333  0.9010  0.8699  0.8626  0.8553  0.8479\n",
        "    400   0.9947  0.9661  0.9306  0.8871  0.8647  0.8573  0.8499\n",
        "    700   0.9985  0.9756  0.9400  0.8946  0.8651  0.8577  0.8503\n",
        "    1000  0.9989  0.9803  0.9451  0.8989  0.8653  0.8579  0.8505\n",
        "    1300  0.9990  0.9833  0.9485  0.9018  0.8655  0.8581  0.8506\n",
        "60  100   0.9349  0.9096  0.8831  0.8701  0.8634  0.8498  0.8488\n",
        "    400   0.9759  0.9471  0.9136  0.8759  0.8666  0.8599  0.8532\n",
        "    700   0.9879  0.9595  0.9247  0.8838  0.8672  0.8605  0.8538\n",
        "    1000  0.9941  0.9664  0.9313  0.8887  0.8675  0.8608  0.8541\n",
        "    1300  0.9980  0.9709  0.9357  0.8921  0.8677  0.8610  0.8543\n",
        "80  100   0.9015  0.8825  0.8736  0.8676  0.8000  0.8000  0.8000\n",
        "    400   0.9441  0.9184  0.8909  0.8731  0.8670  0.8609  0.8547\n",
        "    700   0.9599  0.9324  0.9020  0.8741  0.8681  0.8619  0.8558\n",
        "    1000  0.9691  0.9410  0.9092  0.8746  0.8686  0.8625  0.8563\n",
        "    1300  0.9753  0.9471  0.9143  0.8774  0.8689  0.8628  0.8566\n",
        "100 100   0.9015  0.8824  0.8736  0.8676  0.8000  0.8000  0.8000\n",
        "    400   0.9441  0.9184  0.8909  0.8731  0.8670  0.8609  0.8547\n",
        "    700   0.9599  0.9324  0.9020  0.8741  0.8681  0.8619  0.8558\n",
        "    1000  0.9691  0.9410  0.9092  0.8746  0.8686  0.8625  0.8563\n",
        "    1300  0.9753  0.9471  0.9143  0.8774  0.8698  0.8628  0.8556\n"
       ]
      }
     ],
     "prompt_number": 3
    },
    {
     "cell_type": "code",
     "collapsed": false,
     "input": [
      "data.query({\n",
      "    'Tcondensor': 80,\n",
      "    'modulation': 60,\n",
      "    'massflow': 1000\n",
      "})"
     ],
     "language": "python",
     "metadata": {},
     "outputs": [
      {
       "output_type": "pyout",
       "prompt_number": 4,
       "text": [
        "0.85409999999999997"
       ]
      }
     ],
     "prompt_number": 4
    },
    {
     "cell_type": "code",
     "collapsed": false,
     "input": [
      "plotter = Plotter(data)\n",
      "plotter.plot('Tcondensor', {\n",
      "    'modulation': 60,\n",
      "    'massflow': 400\n",
      "})"
     ],
     "language": "python",
     "metadata": {},
     "outputs": [
      {
       "output_type": "display_data",
       "png": "[encoded data removed]"
      }
     ],
     "prompt_number": 5
    },
    {
     "cell_type": "code",
     "collapsed": false,
     "input": [
      "inputs = data.inputs_dict()\n",
      "for m in inputs['modulation']:\n",
      "    plotter.plot('Tcondensor', {\n",
      "        'modulation': m,\n",
      "        'massflow': 400\n",
      "})"
     ],
     "language": "python",
     "metadata": {},
     "outputs": [
      {
       "output_type": "pyout",
       "prompt_number": 14,
       "text": [
        "Int64Index([20, 40, 60, 80, 100], dtype='int64')"
       ]
      }
     ],
     "prompt_number": 14
    },
    {
     "cell_type": "code",
     "collapsed": false,
     "input": [
      "polyfit = multipolyfit.multipolyfit(np.array([data.space['modulation'], data.space['Tcondensor'], data.space['massflow']]).T, data.space['efficiency'], 2, model_out=True)"
     ],
     "language": "python",
     "metadata": {},
     "outputs": [],
     "prompt_number": 6
    },
    {
     "cell_type": "code",
     "collapsed": false,
     "input": [
      "polyfit(20, 80, 100)"
     ],
     "language": "python",
     "metadata": {},
     "outputs": [
      {
       "output_type": "pyout",
       "prompt_number": 7,
       "text": [
        "0.8328247687075705"
       ]
      }
     ],
     "prompt_number": 7
    },
    {
     "cell_type": "code",
     "collapsed": false,
     "input": [
      "fitter = Fitter(data)\n",
      "function = fitter.fit(2)"
     ],
     "language": "python",
     "metadata": {},
     "outputs": [],
     "prompt_number": 8
    },
    {
     "cell_type": "code",
     "collapsed": false,
     "input": [
      "point = {\n",
      "    'Tcondensor': 60,\n",
      "    'modulation': 60,\n",
      "    'massflow': 100\n",
      "}\n",
      "\n",
      "print fitter.function(point['modulation'], point['massflow'], point['Tcondensor'])\n",
      "print data.query(point)"
     ],
     "language": "python",
     "metadata": {},
     "outputs": [
      {
       "output_type": "stream",
       "stream": "stdout",
       "text": [
        "0.847172265306\n",
        "0.8634\n"
       ]
      }
     ],
     "prompt_number": 9
    },
    {
     "cell_type": "code",
     "collapsed": false,
     "input": [
      "fitter.print_function()"
     ],
     "language": "python",
     "metadata": {},
     "outputs": [
      {
       "output_type": "stream",
       "stream": "stdout",
       "text": [
        "1.10801352268*(modulation^21 + 1 + ^01 + ^0)-0.00139459489796*(modulation1 + 1 + ^01 + ^0)7.84565873015e-05*(modulation1 + Tcondensor1 + ^0)-0.00560282142857*(modulation1 + 1 + ^0efficiency)-4.15816326532e-07*(1 + ^01 + 1 + ^01 + ^0)3.93071428571e-07*(1 + ^01 + Tcondensor1 + ^0)1.587e-05*(1 + ^01 + 1 + ^0efficiency)-3.86712018142e-08*(1 + ^01 + Tcondensor^21 + ^0)-4.29261904762e-07*(1 + ^01 + Tcondensorefficiency)2.67019047619e-05*(1 + ^01 + 1 + ^0efficiency^2)\n"
       ]
      }
     ],
     "prompt_number": 10
    },
    {
     "cell_type": "code",
     "collapsed": false,
     "input": [
      "fitter.powers"
     ],
     "language": "python",
     "metadata": {},
     "outputs": [
      {
       "output_type": "pyout",
       "prompt_number": 11,
       "text": [
        "[array([2, 0, 0, 0]),\n",
        " array([1, 1, 0, 0]),\n",
        " array([1, 0, 1, 0]),\n",
        " array([1, 0, 0, 1]),\n",
        " array([0, 2, 0, 0]),\n",
        " array([0, 1, 1, 0]),\n",
        " array([0, 1, 0, 1]),\n",
        " array([0, 0, 2, 0]),\n",
        " array([0, 0, 1, 1]),\n",
        " array([0, 0, 0, 2])]"
       ]
      }
     ],
     "prompt_number": 11
    },
    {
     "cell_type": "code",
     "collapsed": false,
     "input": [
      "fitter.beta"
     ],
     "language": "python",
     "metadata": {},
     "outputs": [
      {
       "output_type": "pyout",
       "prompt_number": 12,
       "text": [
        "array([  1.10801352e+00,  -1.39459490e-03,   7.84565873e-05,\n",
        "        -5.60282143e-03,  -4.15816327e-07,   3.93071429e-07,\n",
        "         1.58700000e-05,  -3.86712018e-08,  -4.29261905e-07,\n",
        "         2.67019048e-05])"
       ]
      }
     ],
     "prompt_number": 12
    },
    {
     "cell_type": "code",
     "collapsed": false,
     "input": [],
     "language": "python",
     "metadata": {},
     "outputs": []
    }
   ],
   "metadata": {}
  }
 ]
}